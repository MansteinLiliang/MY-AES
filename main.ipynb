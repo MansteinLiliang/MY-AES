{
 "cells": [
  {
   "cell_type": "code",
   "execution_count": 5,
   "metadata": {
    "collapsed": true
   },
   "outputs": [
    {
     "name": "stdout",
     "output_type": "stream",
     "text": [
      "#dic = 130\n"
     ]
    }
   ],
   "source": [
    "import theano\n",
    "import time\n",
    "import sys\n",
    "import numpy as np\n",
    "import theano\n",
    "import theano.tensor as T\n",
    "from utils_pg import *\n",
    "from rnn import *\n",
    "import data\n",
    "e = 0.01\n",
    "lr = 0.1\n",
    "drop_rate = 0.\n",
    "batch_size = 1000\n",
    "hidden_size = [500]\n",
    "seqs, i2w, w2i, data_xy = data.word_sequence(\"/data/toy.txt\", batch_size)"
   ]
  },
  {
   "cell_type": "code",
   "execution_count": 11,
   "metadata": {},
   "outputs": [
    {
     "data": {
      "text/plain": [
       "(24L, 130L)"
      ]
     },
     "execution_count": 11,
     "metadata": {},
     "output_type": "execute_result"
    }
   ],
   "source": [
    "seqs[0].shape"
   ]
  },
  {
   "cell_type": "code",
   "execution_count": 14,
   "metadata": {},
   "outputs": [
    {
     "data": {
      "text/plain": [
       "array([[ 1.,  2.,  1.,  2.,  1.,  2.],\n       [ 3.,  4.,  3.,  4.,  3.,  4.]], dtype=float32)"
      ]
     },
     "execution_count": 14,
     "metadata": {},
     "output_type": "execute_result"
    }
   ],
   "source": [
    "import theano.tensor as T\n",
    "import theano\n",
    "import numpy as np\n",
    "a = np.array([[1, 2], [3, 4]]).astype(\"float32\")\n",
    "m= T.fmatrices(\"m\")\n",
    "x= T.tile(m,(1,3))\n",
    "out = theano.function([m], x)\n",
    "out(a)"
   ]
  },
  {
   "cell_type": "code",
   "execution_count": null,
   "metadata": {},
   "outputs": [],
   "source": [
    ""
   ]
  }
 ],
 "metadata": {
  "kernelspec": {
   "display_name": "Python 2",
   "language": "python",
   "name": "python2"
  },
  "language_info": {
   "codemirror_mode": {
    "name": "ipython",
    "version": 2.0
   },
   "file_extension": ".py",
   "mimetype": "text/x-python",
   "name": "python",
   "nbconvert_exporter": "python",
   "pygments_lexer": "ipython2",
   "version": "2.7.6"
  }
 },
 "nbformat": 4,
 "nbformat_minor": 0
}